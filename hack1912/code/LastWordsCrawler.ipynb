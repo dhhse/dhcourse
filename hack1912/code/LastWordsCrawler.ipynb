{
 "cells": [
  {
   "cell_type": "code",
   "execution_count": 109,
   "metadata": {},
   "outputs": [],
   "source": [
    "import re\n",
    "from bs4 import BeautifulSoup\n",
    "from os import walk\n",
    "from os import path as pt"
   ]
  },
  {
   "cell_type": "code",
   "execution_count": 110,
   "metadata": {},
   "outputs": [],
   "source": [
    "address = '../lastwords'"
   ]
  },
  {
   "cell_type": "code",
   "execution_count": 111,
   "metadata": {},
   "outputs": [],
   "source": [
    "def parse_file (path, filename):\n",
    "    inputfile = open (pt.join(path, filename), 'r')\n",
    "    soup = BeautifulSoup(inputfile,'html.parser')\n",
    "    #print (soup.title.text)\n",
    "    textdiv = soup.find ('div', {\"class\": \"text\"})\n",
    "    text = textdiv.text\n",
    "    #print (filename)\n",
    "    #print (text [:200])\n",
    "    outfile = open('../lastwords_txt/'+filename+'.txt', 'w')\n",
    "    outfile.write (text)\n",
    "    outfile.close()"
   ]
  },
  {
   "cell_type": "code",
   "execution_count": 112,
   "metadata": {},
   "outputs": [],
   "source": [
    "def parse_folder (address):\n",
    "    for path, dirs, filenames in walk (address):\n",
    "        for filename in filenames:\n",
    "            #print (filename)\n",
    "            if 'DS_Store' not in filename:\n",
    "            #try:\n",
    "                parse_file (path, filename)\n",
    "            #except:\n",
    "             #   print ('couldnt parse', filename)"
   ]
  },
  {
   "cell_type": "code",
   "execution_count": 113,
   "metadata": {},
   "outputs": [
    {
     "name": "stdout",
     "output_type": "stream",
     "text": [
      "Беглец_Данил\n",
      "Ходорковский_Михаил_(Второе_дело)\n",
      "Кутаев_Руслан\n",
      "Миняйло_Алексей\n",
      "Албуров_Георгий\n",
      "Белых_Никита\n",
      "Дадин_Ильдар\n",
      "Волков_Леонид\n",
      "Синица_Владислав\n",
      "Кривов_Сергей\n",
      "Полихович_Андрей\n",
      ".DS_Store\n",
      "Белоусов_Ярослав\n",
      "Климов_Сергей\n",
      "Соколов_Александр\n",
      "Ходорковский_Михаил_(Первое_дело)\n",
      "Савостин_Михаил\n",
      "Офицеров_Пётр\n",
      "Дмитриев_Олег\n",
      "Емельянов_Владимир\n",
      "Титиев_Оюб\n",
      "Мордасов_Владислав\n",
      "Малышевский_Эдуард\n",
      "Самуцевич_Екатерина\n",
      "Навальный_Олег\n",
      "Устинов_Павел\n",
      "Лоскутов_Артём\n",
      "Новиков_Павел\n",
      "Борисов_Дмитрий\n",
      "Толоконникова_Надежда\n",
      "Луцкевич_Денис\n",
      "Зимин_Степан\n",
      "Наумова_Александра\n",
      "Навальный_Алексей_(дело_КировЛес)\n",
      "Константинов_Даниил\n",
      "Коваленко_Евгений\n",
      "Алёхина_Мария\n",
      "Подкопаев_Иван\n",
      "Савелов_Артём\n",
      "Мартинцов_Максим\n",
      "Сенцов_Олег\n",
      "Соколовский_Руслан\n",
      "Чирцов_Никита\n",
      "Мыльников_Александр\n",
      "Барабанов_Андрей\n",
      "Сидоров_Ян\n",
      "Мемедеминов_Нариман\n",
      "Белов_Александр\n",
      "Котляр_Татьяна\n",
      "Котов_Константин\n",
      "Шишкин_Игорь\n",
      "Косенко_Михаил\n",
      "Жуков_Егор\n",
      "Прокопьева_Светлана\n",
      "Жуков_Кирилл\n",
      "Балух_Владимир\n",
      "Беньяш_Михаил\n",
      "Милосердов_Пётр\n",
      "Навальный_Алексей_(дело_ИвРоше)\n",
      "Лесных_Егор\n",
      "Носик_Антон\n"
     ]
    }
   ],
   "source": [
    "parse_folder (address)"
   ]
  },
  {
   "cell_type": "code",
   "execution_count": null,
   "metadata": {},
   "outputs": [],
   "source": []
  }
 ],
 "metadata": {
  "kernelspec": {
   "display_name": "Python 3",
   "language": "python",
   "name": "python3"
  },
  "language_info": {
   "codemirror_mode": {
    "name": "ipython",
    "version": 3
   },
   "file_extension": ".py",
   "mimetype": "text/x-python",
   "name": "python",
   "nbconvert_exporter": "python",
   "pygments_lexer": "ipython3",
   "version": "3.6.5"
  }
 },
 "nbformat": 4,
 "nbformat_minor": 2
}
