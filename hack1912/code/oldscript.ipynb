{
 "cells": [
  {
   "cell_type": "code",
   "execution_count": 489,
   "metadata": {},
   "outputs": [],
   "source": [
    "import re\n",
    "from bs4 import BeautifulSoup \n",
    "#from lxml import etree as LX\n",
    "from os import walk\n",
    "from transliterate import translit, get_available_language_codes"
   ]
  },
  {
   "cell_type": "code",
   "execution_count": 490,
   "metadata": {},
   "outputs": [],
   "source": [
    "def transliterate (somecyrstring):\n",
    "    #print (somecyrstring)\n",
    "    transliterated = translit (somecyrstring, 'ru', reversed=True)\n",
    "    transliterated_clean = re.sub ('[.,!:&? -]','',transliterated)\n",
    "    #print (transliterated)\n",
    "    return transliterated_clean"
   ]
  },
  {
   "cell_type": "code",
   "execution_count": 491,
   "metadata": {},
   "outputs": [],
   "source": [
    "def determine_sex (persname):\n",
    "    if persname.endswith ('ә'):\n",
    "        return 'FEMALE'\n",
    "    else:\n",
    "        return 'MALE'"
   ]
  },
  {
   "cell_type": "code",
   "execution_count": 492,
   "metadata": {},
   "outputs": [],
   "source": [
    "def add_perslist_to_header (header, perslist):\n",
    "    xmlperslist = ''\n",
    "    for person_id in perslist:\n",
    "        persname = perslist[person_id]\n",
    "        sex = determine_sex (persname)\n",
    "        pl_item = \"\"\"<person xml:id=\"{}\" sex=\"{}\">\n",
    "        <persName>{}</persName>\n",
    "        </person>\\n\"\"\".format(person_id,sex,persname)\n",
    "        xmlperslist += pl_item\n",
    "    xmlperslist = '<listPerson>{}</listPerson>'.format (xmlperslist)\n",
    "    return re.sub('INSERTPERSLISTHERE',xmlperslist, header)"
   ]
  },
  {
   "cell_type": "code",
   "execution_count": 493,
   "metadata": {},
   "outputs": [],
   "source": [
    "def add_header_with_meta (string_with_play_content,soup, perslist):\n",
    "    header = open('header_stub.xml','r').read()\n",
    "    play_title = soup.title.text\n",
    "    header = re.sub('INSERTTITLEHERE', play_title, header)\n",
    "    header_with_cast_list = add_perslist_to_header (header, perslist) \n",
    "    return (header_with_cast_list + string_with_play_content) "
   ]
  },
  {
   "cell_type": "code",
   "execution_count": 494,
   "metadata": {},
   "outputs": [],
   "source": [
    "def add_to_perslist (perslist, speaker_for_list):\n",
    "    speaker_for_list_name = re.sub ('[.,!:&? ]','',speaker_for_list[1])\n",
    "    speaker_id = speaker_for_list[0]\n",
    "    perslist[speaker_id] = speaker_for_list_name"
   ]
  },
  {
   "cell_type": "code",
   "execution_count": 495,
   "metadata": {},
   "outputs": [],
   "source": [
    "def html_line_to_tei (item):\n",
    "    newstring = str (item)\n",
    "    thislinekids = item.contents\n",
    "    speaker_for_list = None\n",
    "    if thislinekids[0].name == 'b':\n",
    "        newstring = re.sub('<(/)?b>','<\\\\1speaker>', newstring)\n",
    "        nameforid = transliterate (thislinekids[0].text)\n",
    "        speaker_for_list = (nameforid,thislinekids[0].text)\n",
    "        #print (speaker_for_list)\n",
    "        newstring = re.sub('<p>','<sp who=\"'+nameforid+'\">', newstring)\n",
    "        newstring = re.sub('</p>','</sp>', newstring)\n",
    "        newstring = re.sub('<(/)?i>','<\\\\1stage>', newstring)\n",
    "    elif thislinekids[0].name == 'i':\n",
    "        newstring = re.sub('<(/)?p>','', newstring)\n",
    "        newstring = re.sub('<(/)?i>','<\\\\1stage>', newstring)\n",
    "    newstring = re.sub ('</speaker>(.*)</sp>','</speaker><p>\\\\1</p></sp>',newstring)\n",
    "    return (newstring, speaker_for_list)\n",
    "    #thislinekids = item.contents\n",
    "    #thislinekids[]\n",
    "    \n",
    "    #parse_line_plain(item)\n",
    "        #print ('speaker: ',thislinekids[0].text)\n",
    "        #print ('speech: ', item.text)\n",
    "    "
   ]
  },
  {
   "cell_type": "code",
   "execution_count": 496,
   "metadata": {},
   "outputs": [],
   "source": [
    "def move_html_to_xml (soup):\n",
    "    #teibody=LX.Element('body') # создаем body нашего нового TEI\n",
    "    string_with_play_content = ''\n",
    "    perslist = {}\n",
    "    play_content = soup.find ('div', id=\"content\")\n",
    "    for item in play_content:\n",
    "        #print (item.name)\n",
    "        speaker_for_list = None\n",
    "        if item.name == 'p':\n",
    "            if item.children[0].name == 'b'\n",
    "                if re.search ('нч(е|ы) манзара',item.children[0].text,re.IGNORECASE):\n",
    "                    print (item.children[0].text)\n",
    "                    line_to_write = '</div>\\n<div type=\"act\"><head>{}</head>'.format(item.text)\n",
    "                elif re.search ('нч(е|ы) мәҗлес',item.children[0].text,re.IGNORECASE):\n",
    "                    print (item.children[0].text)\n",
    "                    line_to_write = '</div>\\n<div type=\"scene\"><head>{}</head>'.format(item.text)\n",
    "            else:\n",
    "                line_to_write, speaker_for_list = html_line_to_tei (item)\n",
    "        #elif item.name == 'br':\n",
    "         #   line_to_write = '</div>\\n<div>'#html_break_to_tei (item)\n",
    "        else:\n",
    "            line_to_write = None\n",
    "        if line_to_write != None:\n",
    "            string_with_play_content += line_to_write + '\\n'\n",
    "        if speaker_for_list != None:\n",
    "            add_to_perslist (perslist, speaker_for_list)\n",
    "    #print (perslist)\n",
    "    body_with_content = '<text>\\n<div>\\n{}\\n</div>\\n</text>'.format (string_with_play_content)\n",
    "    body_with_content_and_meta = add_header_with_meta (body_with_content,soup , perslist)\n",
    "    ultimate_xml = '<TEI>\\n{}\\n</TEI>'.format (body_with_content_and_meta)\n",
    "    return (ultimate_xml)"
   ]
  },
  {
   "cell_type": "code",
   "execution_count": 497,
   "metadata": {},
   "outputs": [],
   "source": [
    "def parse_html(inputfile):\n",
    "    soup = BeautifulSoup(inputfile, \n",
    "                         'html.parser', \n",
    "                         from_encoding ='cp1251')\n",
    "    #xml_tree = LXET.ElementTree\n",
    "    print (soup.title.string)\n",
    "    #print (soup.prettify())\n",
    "    return (move_html_to_xml (soup))"
   ]
  },
  {
   "cell_type": "code",
   "execution_count": 498,
   "metadata": {},
   "outputs": [],
   "source": [
    "def out_write(out_string, filename):\n",
    "    newname = re.sub ('\\.html?','.xml', filename)\n",
    "    newpath = '../Parsed/'\n",
    "    outfile = open (newpath + newname, 'w')\n",
    "    outfile.write (out_string)\n",
    "    outfile.close()"
   ]
  },
  {
   "cell_type": "code",
   "execution_count": 499,
   "metadata": {},
   "outputs": [],
   "source": [
    "def parsefolder (folderwithhtml):#, header):\n",
    "    for path, dirs, filenames in walk (folderwithhtml):\n",
    "        for filename in filenames:\n",
    "            if '.htm' in filename:\n",
    "                print (filename)\n",
    "                openhtml = open(path+'/'+filename, \n",
    "                                'r', \n",
    "                                encoding=\"cp1251\")\n",
    "                #parse_html(openhtml)\n",
    "                out_string = parse_html(openhtml)\n",
    "                out_write (out_string, filename)\n",
    "                openhtml.close()"
   ]
  },
  {
   "cell_type": "code",
   "execution_count": 500,
   "metadata": {},
   "outputs": [
    {
     "name": "stdout",
     "output_type": "stream",
     "text": [
      "qamal-kaynish.htm\n",
      "Татарская электронная библиотека: Галиаскар Камал. Кайниш\n",
      "Пьеса 1 пәрдәдә 2 манзарада (картинада)\n",
      "БЕРЕНЧЕ МАНЗАРА\n",
      "Беренче мәҗлес\n",
      "Икенче мәҗлес\n",
      "Өченче мәҗлес\n",
      "Дүртенче мәҗлес\n",
      "Бишенче мәҗлес\n",
      "Алтынчы мәҗлес\n",
      "Җиденче мәҗлес\n",
      "ИКЕНЧЕ МАНЗАРА\n",
      "Беренче мәҗлес ,\n",
      "Икенче мәҗлес\n",
      " Өченче мәҗлес\n",
      "Дүртенче мәҗлес\n",
      "qamal-beznen-shehernen-serlere.htm\n",
      "Татарская электронная библиотека: Галиаскар Камал. Безнең шәһәрнең серләре\n",
      "Манзара биш пәрдәдә\n",
      "БЕРЕНЧЕ МАНЗАРА\n",
      "Беренче мәҗлес\n",
      "Сакчы. «Ул нәрсә ул тагы?» — ди. Идарә мәҗлесенә записка, дигән идем, ачуланырга тотынды. «Бетмәде инде мәҗлесегез, — ди. — Көн дә, көн дә нинди мәҗлес булсын, бүген бармас, бүген безнең парлы кунакка барасыбыз бар. һәр көн кич анда барып, төн уздырып кайтырга булмас», — ди.\n",
      "Сакчы. Касыйм абзыйны күргән идем. «Ярар, бушый алсам, барырмын. Минем, ясигъдән чыккач, бер җиргә туйга барасым бар. Миңа карамасыннар, мәҗлесне ачып эшкә башлый торсыннар. Мин пртакулга кул куярга барып җитәрмен. Бара алмасам, иртәгә пртакул дәфтәрен кибеткә төшерерсең, кул куеп бирермен», — диде.\n",
      "Икенче мәҗлес\n",
      "Сәркатип (үзалдына сөйли). Унынчы ярты. Сәгать сигезгә дип чакырган мәҗлескә әле һаман килгәннәре юк. Бүген инде өченче мәртәбә чакыру, алай да килмиләр. Монда карыйсы эшнең очы-кырые юк. (Кәгазьләрне актарып карап.) Менә монда бер бичарасы юлга китәргә акчам юк, дип ярдәм сорый. Гаризасы язылганга нәкъ бер ай да ун көн булган. Әгәр бүген дә җыелмасалар, ул бичарага тагын ун көн көтәргә кирәк булыр. Әгәр дә ул кеше җәмгыятьнең ярдәменә ышанып ятса, язган булса, яз көне, шаять, китәр. Менә монсында бер бик фәкыйрь хатын урын өстендә үләргә ята, табиб китерергә ярдәм сорый, дигәннәр. Аның гаризасының язылуына да бүген нәкъ бер ай булган. Кем белә, мескен, көткән-көткәндер дә ярдәм килмәгәч, «ахры, булмас инде» дип, бәлки, күптән теге дөньяга киткәндер! Монда көтеп утырудан бер тиенлек тә мәгънә чыкмас. Кайтырга кирәк. Садрый байның хатыны: «Ул нинди көн саен мәҗлес», — дип әйтә, ди. Кем белә, бәлки, ул шулай көн саен мәҗлескә барам, дип, өеннән чыгып китә торгандыр. Бервакытны бер гласный шулай һәр көн өеннән: «Мин управага менәм», — дип чыгып китә икән. Бервакыт, кыш узгач, кыш буена кемнең ничә мәртәбә Дума мәҗлесләренә барганлыгын мөселман гәзитләренә язып чыгардылар. Хатыннары гәзитне укып карасалар, теге гласный кыш буе бары ике генә мәртәбә мәҗлескә барган булып чыккан. Шуның шикелле Садрый абзый да һаман мәҗлескә барам, дип чыгып китә торгандыр әле. (Халыкка карап.) Хуш, сау булыгыз, мин өйгә йокларга кайтам инде. (Чыгып китә.)\n",
      "Өченче мәҗлес\n",
      "Сәркатип. Анда башка көнне барсагыз да яраган булыр иде. Сәгать сигездә чакырган мәҗлескә унда килгәч, эш ничек барсын?\n",
      "Дүртенче мәҗлес\n",
      "Фатыйх. Нихәл, мәҗлес таралдымы әллә?\n",
      "Әгъза. Әле мәҗлес булганы юк.\n",
      "Бишенче мәҗлес\n",
      "Себер бае. Мин бүген монда мәҗлес була дип ишеткән идем. Шуңа күрә бер кереп чыгыйм дигән идем. Өлгерә алмадым, мәҗлесегез таралган икән.\n",
      "Сәркатип (сәгатькә карап). Әфәнделәр, мин кайтам. Инде сәгать 11 тулган. Бүген мәҗлес булмас, ахры.\n",
      "Фатыйх. Мин бер сүз дә әйтә алмыйм, киләсе мәҗлескә калсын, дим.\n",
      "Фатыйх. Атказ! Ә юк, аларын икенче мәҗлестә карарбыз. (Әгъза белән чыга башлыйлар. Әгъзага бөгелеп, колагына.) Нихәл, ни эшләттек теге җәдитне! Авызына бармагын кабып шаккатып карап калдымы? Әйдә, минем белән барасыңмы?\n",
      "Себер бае. Сезнең мәҗлес дигәнегез шушымы инде?\n",
      "ИКЕНЧЕ МАНЗАРА\n",
      "Беренче мәҗлес\n",
      "Садрый (залга кереп, сул тарафтагы өстәлгә утырып) . Әле иртә икән, берсе дә килмәгән. Бәлки, алар җәмгыять мәҗлесенә барганнардыр. Алар килгәнче, берәрне эчә торырга кирәк. (Звонок бирә.)\n",
      "Садрый. Җәмгыять бик яхшы сылтау булды әле, анда-монда барасы булса, «җәмгыятькә барам» дип чыгып китү бик ансат. Хатын: «Бүген бармасаң да ярар инде. Бик соңга калдың», — ди. Мин: «Юк, бер дә бармый калырга ярамый, карала торган бик кирәкле эшләр бар, мәҗлеснең ахырына барып җитсәм дә, барып калырга кирәк, анда миннән башка бер эш тә булмый», — дип чыгып киттем. Мин инде аларны күптән монда килеп җиткәннәрдер дип торадыр идем, әле килмәгәннәр икән. Узган ел гласныйлыкка да сайланырга да йөреп караган идем, булдырып булмады. Әгәр анда сайланган булсам, эш тагы да яхшырак буладыр иде.\n",
      "Икенче мәҗлес\n",
      "Өченче мәҗлес\n",
      "Дүртенче мәҗлес\n",
      "Бишенче мәҗлес\n",
      "Фатыйх. Мәҗлес бик шәп булып китте әле. Тагы берне алдырырга кирәк. Булган булган, берәгәйле булсын. (Звонок бирә, официант килә.) Кая, тагын берне китер.\n",
      "Яучы. Шулар, теге икесе баягы кешеләр. Болары да членнар, бая мәҗлескә килмәделәр.\n",
      "Себер бае. Мәҗлескә килмәсәләр дә, монда киләләр икән.\n",
      "Алтынчы мәҗлес\n",
      "Җиденче мәҗлес\n",
      "qamal-berenche-teatr.htm\n",
      "Татарская электронная библиотека: Галиаскар Камал. Беренче театр\n"
     ]
    }
   ],
   "source": [
    "folderwithhtml = '../DramaSources/ToParse'\n",
    "parsefolder (folderwithhtml)"
   ]
  },
  {
   "cell_type": "code",
   "execution_count": null,
   "metadata": {},
   "outputs": [],
   "source": []
  }
 ],
 "metadata": {
  "kernelspec": {
   "display_name": "Python 3",
   "language": "python",
   "name": "python3"
  },
  "language_info": {
   "codemirror_mode": {
    "name": "ipython",
    "version": 3
   },
   "file_extension": ".py",
   "mimetype": "text/x-python",
   "name": "python",
   "nbconvert_exporter": "python",
   "pygments_lexer": "ipython3",
   "version": "3.6.5"
  }
 },
 "nbformat": 4,
 "nbformat_minor": 2
}
