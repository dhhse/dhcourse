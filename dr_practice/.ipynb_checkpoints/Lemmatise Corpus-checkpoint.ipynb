{
 "cells": [
  {
   "cell_type": "code",
   "execution_count": 14,
   "metadata": {
    "collapsed": true
   },
   "outputs": [],
   "source": [
    "import os\n",
    "import re"
   ]
  },
  {
   "cell_type": "code",
   "execution_count": 7,
   "metadata": {
    "scrolled": true
   },
   "outputs": [
    {
     "name": "stdout",
     "output_type": "stream",
     "text": [
      "Bely_Dove.txt\n",
      "Bely_kotik.txt\n",
      "Bely_Peterburg.txt\n",
      "Bely_Symphonies.txt\n",
      "Bryusov_Angel.txt\n",
      "Bryusov_Flat.txt\n",
      "Bryusov_Mountain.txt\n",
      "Bryusov_Victory.txt\n",
      "Fedin_Souls.txt\n",
      "Kaverin_Chronicle.txt\n",
      "Kaverin_Fate.txt\n",
      "Kaverin_Game.txt\n",
      "Kaverin_Palimpsest.txt\n",
      "Kaverin_Pilgrim.txt\n",
      "Kaverin_Scandalist.txt\n",
      "Khodasevich_Iogann.txt\n",
      "Khodasevich_Nekropolis.txt\n",
      "Khodasevich_Travnikov.txt\n",
      "Lunts_Desert.txt\n",
      "Merezhkovsky_December.txt\n",
      "Merezhkovsky_Julian.txt\n",
      "Merezhkovsky_Leonardo .txt\n",
      "Merezhkovsky_Love.txt\n",
      "Merezhkovsky_Michelangelo.txt\n",
      "Merezhkovsky_Peter.txt\n",
      "Nikitin_Dasy.txt\n",
      "Slonimsky_Wild.txt\n",
      "Sologub_Blood.txt\n",
      "Sologub_Crowd.txt\n",
      "Sologub_Demon.txt\n",
      "Sologub_Dog.txt\n",
      "Sologub_Ortruda.txt\n",
      "Sologub_Shadows.txt\n",
      "Vs.Ivanov_Blue.txt\n",
      "Zoshchenko_Chertovinka.txt\n",
      "Zoshchenko_Stories_20-30.txt\n",
      "Zoshchenko_Story.txt\n",
      "Zoshchenko_Viktoria.txt\n"
     ]
    }
   ],
   "source": [
    "for file in os.listdir('symbolists\\corpus'):\n",
    "    print(file)\n",
    "    os.system(r\"mystem.exe \" + \"-idln -e cp1251 --eng-gr symbolists\\corpus\" + os.sep + file + r\" symbolists_pos\" + os.sep + file)"
   ]
  },
  {
   "cell_type": "code",
   "execution_count": 8,
   "metadata": {},
   "outputs": [
    {
     "name": "stdout",
     "output_type": "stream",
     "text": [
      "Bely_Dove.txt\n",
      "Bely_kotik.txt\n",
      "Bely_Peterburg.txt\n",
      "Bely_Symphonies.txt\n",
      "Bryusov_Angel.txt\n",
      "Bryusov_Flat.txt\n",
      "Bryusov_Mountain.txt\n",
      "Bryusov_Victory.txt\n",
      "Fedin_Souls.txt\n",
      "Kaverin_Chronicle.txt\n",
      "Kaverin_Fate.txt\n",
      "Kaverin_Game.txt\n",
      "Kaverin_Palimpsest.txt\n",
      "Kaverin_Pilgrim.txt\n",
      "Kaverin_Scandalist.txt\n",
      "Khodasevich_Iogann.txt\n",
      "Khodasevich_Nekropolis.txt\n",
      "Khodasevich_Travnikov.txt\n",
      "Lunts_Desert.txt\n",
      "Merezhkovsky_December.txt\n",
      "Merezhkovsky_Julian.txt\n",
      "Merezhkovsky_Leonardo .txt\n",
      "Merezhkovsky_Love.txt\n",
      "Merezhkovsky_Michelangelo.txt\n",
      "Merezhkovsky_Peter.txt\n",
      "Nikitin_Dasy.txt\n",
      "Slonimsky_Wild.txt\n",
      "Sologub_Blood.txt\n",
      "Sologub_Crowd.txt\n",
      "Sologub_Demon.txt\n",
      "Sologub_Dog.txt\n",
      "Sologub_Ortruda.txt\n",
      "Sologub_Shadows.txt\n",
      "Vs.Ivanov_Blue.txt\n",
      "Zoshchenko_Chertovinka.txt\n",
      "Zoshchenko_Stories_20-30.txt\n",
      "Zoshchenko_Story.txt\n",
      "Zoshchenko_Viktoria.txt\n"
     ]
    }
   ],
   "source": [
    "for file in os.listdir('symbolists\\corpus'):\n",
    "    print(file)\n",
    "    os.system(r\"mystem.exe \" + \"-dln -e cp1251 symbolists\\corpus\" + os.sep + file + r\" .\\symbolists_lemmatised\" + os.sep + file)"
   ]
  },
  {
   "cell_type": "code",
   "execution_count": 9,
   "metadata": {},
   "outputs": [],
   "source": [
    "# clean_lemmatised = re.compile(r'\\{|\\}|(____________________)|(\\[\\d*?\\])')\n",
    "clean_pos = re.compile(r'.*?=([A-Z]+).*\\n')\n",
    "clean_pos2 = re.compile(r'[а-яА-Я]+')\n",
    "clean_punctuation = re.compile(r'[.,?!:;\\[\\]=@#$%*\\(\\)«»]+')"
   ]
  },
  {
   "cell_type": "code",
   "execution_count": 10,
   "metadata": {},
   "outputs": [
    {
     "name": "stdout",
     "output_type": "stream",
     "text": [
      "Bely_Dove.txt\n",
      "Bely_kotik.txt\n",
      "Bely_Peterburg.txt\n",
      "Bely_Symphonies.txt\n",
      "Bryusov_Angel.txt\n",
      "Bryusov_Flat.txt\n",
      "Bryusov_Mountain.txt\n",
      "Bryusov_Victory.txt\n",
      "Fedin_Souls.txt\n",
      "Kaverin_Chronicle.txt\n",
      "Kaverin_Fate.txt\n",
      "Kaverin_Game.txt\n",
      "Kaverin_Palimpsest.txt\n",
      "Kaverin_Pilgrim.txt\n",
      "Kaverin_Scandalist.txt\n",
      "Khodasevich_Iogann.txt\n",
      "Khodasevich_Nekropolis.txt\n",
      "Khodasevich_Travnikov.txt\n",
      "Lunts_Desert.txt\n",
      "Merezhkovsky_December.txt\n",
      "Merezhkovsky_Julian.txt\n",
      "Merezhkovsky_Love.txt\n",
      "Merezhkovsky_Michelangelo.txt\n",
      "Merezhkovsky_Peter.txt\n",
      "Nikitin_Dasy.txt\n",
      "Slonimsky_Wild.txt\n",
      "Sologub_Blood.txt\n",
      "Sologub_Crowd.txt\n",
      "Sologub_Demon.txt\n",
      "Sologub_Dog.txt\n",
      "Sologub_Ortruda.txt\n",
      "Sologub_Shadows.txt\n",
      "Vs.Ivanov_Blue.txt\n",
      "Zoshchenko_Chertovinka.txt\n",
      "Zoshchenko_Stories_20-30.txt\n",
      "Zoshchenko_Story.txt\n",
      "Zoshchenko_Viktoria.txt\n"
     ]
    }
   ],
   "source": [
    "for file in os.listdir('symbolists_lemmatised'):\n",
    "    print(file)\n",
    "    with open(\"symbolists_lemmatised\" + os.sep + file, 'r', encoding=\"cp1251\") as f:\n",
    "        text = f.read()\n",
    "    new_text = re.sub(clean_punctuation, \"\", text)\n",
    "    with open(\"symbolists_lemmatised\" + os.sep + file, 'w', encoding=\"utf-8\") as f:\n",
    "        f.write(new_text)"
   ]
  },
  {
   "cell_type": "code",
   "execution_count": 11,
   "metadata": {
    "scrolled": true
   },
   "outputs": [
    {
     "name": "stdout",
     "output_type": "stream",
     "text": [
      "Bely_Dove.txt\n",
      "Bely_kotik.txt\n",
      "Bely_Peterburg.txt\n",
      "Bely_Symphonies.txt\n",
      "Bryusov_Angel.txt\n",
      "Bryusov_Flat.txt\n",
      "Bryusov_Mountain.txt\n",
      "Bryusov_Victory.txt\n",
      "Fedin_Souls.txt\n",
      "Kaverin_Chronicle.txt\n",
      "Kaverin_Fate.txt\n",
      "Kaverin_Game.txt\n",
      "Kaverin_Palimpsest.txt\n",
      "Kaverin_Pilgrim.txt\n",
      "Kaverin_Scandalist.txt\n",
      "Khodasevich_Iogann.txt\n",
      "Khodasevich_Nekropolis.txt\n",
      "Khodasevich_Travnikov.txt\n",
      "Lunts_Desert.txt\n",
      "Merezhkovsky_December.txt\n",
      "Merezhkovsky_Julian.txt\n",
      "Merezhkovsky_Love.txt\n",
      "Merezhkovsky_Michelangelo.txt\n",
      "Merezhkovsky_Peter.txt\n",
      "Nikitin_Dasy.txt\n",
      "Slonimsky_Wild.txt\n",
      "Sologub_Blood.txt\n",
      "Sologub_Crowd.txt\n",
      "Sologub_Demon.txt\n",
      "Sologub_Dog.txt\n",
      "Sologub_Ortruda.txt\n",
      "Sologub_Shadows.txt\n",
      "Vs.Ivanov_Blue.txt\n",
      "Zoshchenko_Chertovinka.txt\n",
      "Zoshchenko_Stories_20-30.txt\n",
      "Zoshchenko_Story.txt\n",
      "Zoshchenko_Viktoria.txt\n"
     ]
    }
   ],
   "source": [
    "for file in os.listdir('symbolists_pos'):\n",
    "    print(file)\n",
    "    with open(\"symbolists_pos\" + os.sep + file, 'r', encoding=\"cp1251\") as f:\n",
    "        text = f.read()\n",
    "    new_text = re.sub(clean_pos, r\"\\1\\n\", text)\n",
    "    new_text = re.sub(clean_pos2, \"\", new_text)\n",
    "    new_text = re.sub(clean_punctuation, \"\", new_text)\n",
    "    with open(\"symbolists_pos\" + os.sep + file, 'w', encoding=\"utf-8\") as f:\n",
    "        f.write(new_text)"
   ]
  },
  {
   "cell_type": "code",
   "execution_count": 16,
   "metadata": {},
   "outputs": [
    {
     "name": "stdout",
     "output_type": "stream",
     "text": [
      "lem\n",
      "pos\n",
      "Vaginov_Bambochada.txt\n",
      "Vaginov_DofS.txt\n",
      "Vaginov_Garpagon.txt\n",
      "Vaginov_SatyrSong.txt\n"
     ]
    }
   ],
   "source": [
    "for file in os.listdir('new'):\n",
    "    print(file)\n",
    "    os.system(r\"mystem.exe \" + \"-idln -e cp1251 --eng-gr new\" + os.sep + file + r\" new\\pos\" + os.sep + file)"
   ]
  },
  {
   "cell_type": "code",
   "execution_count": 17,
   "metadata": {},
   "outputs": [
    {
     "name": "stdout",
     "output_type": "stream",
     "text": [
      "Vaginov_Bambochada.txt\n",
      "Vaginov_DofS.txt\n",
      "Vaginov_Garpagon.txt\n",
      "Vaginov_SatyrSong.txt\n"
     ]
    }
   ],
   "source": [
    "for file in os.listdir('new\\pos'):\n",
    "    print(file)\n",
    "    with open(\"new\\pos\" + os.sep + file, 'r', encoding=\"cp1251\") as f:\n",
    "        text = f.read()\n",
    "    new_text = re.sub(clean_pos, r\"\\1\\n\", text)\n",
    "    new_text = re.sub(clean_pos2, \"\", new_text)\n",
    "    new_text = re.sub(clean_punctuation, \"\", new_text)\n",
    "    with open(\"new\\pos\" + os.sep + file, 'w', encoding=\"utf-8\") as f:\n",
    "        f.write(new_text)"
   ]
  },
  {
   "cell_type": "code",
   "execution_count": 18,
   "metadata": {},
   "outputs": [
    {
     "name": "stdout",
     "output_type": "stream",
     "text": [
      "lem\n",
      "pos\n",
      "Vaginov_Bambochada.txt\n",
      "Vaginov_DofS.txt\n",
      "Vaginov_Garpagon.txt\n",
      "Vaginov_SatyrSong.txt\n"
     ]
    }
   ],
   "source": [
    "for file in os.listdir('new'):\n",
    "    print(file)\n",
    "    os.system(r\"mystem.exe \" + \"-dln -e cp1251 new\" + os.sep + file + r\" new\\lem\" + os.sep + file)"
   ]
  },
  {
   "cell_type": "code",
   "execution_count": 19,
   "metadata": {},
   "outputs": [
    {
     "name": "stdout",
     "output_type": "stream",
     "text": [
      "Vaginov_Bambochada.txt\n",
      "Vaginov_DofS.txt\n",
      "Vaginov_Garpagon.txt\n",
      "Vaginov_SatyrSong.txt\n"
     ]
    }
   ],
   "source": [
    "for file in os.listdir('new\\lem'):\n",
    "    print(file)\n",
    "    with open(\"new\\lem\" + os.sep + file, 'r', encoding=\"cp1251\") as f:\n",
    "        text = f.read()\n",
    "    new_text = re.sub(clean_punctuation, \"\", text)\n",
    "    with open(\"new\\lem\" + os.sep + file, 'w', encoding=\"utf-8\") as f:\n",
    "        f.write(new_text)"
   ]
  },
  {
   "cell_type": "code",
   "execution_count": null,
   "metadata": {
    "collapsed": true
   },
   "outputs": [],
   "source": []
  }
 ],
 "metadata": {
  "kernelspec": {
   "display_name": "Python 3",
   "language": "python",
   "name": "python3"
  },
  "language_info": {
   "codemirror_mode": {
    "name": "ipython",
    "version": 3
   },
   "file_extension": ".py",
   "mimetype": "text/x-python",
   "name": "python",
   "nbconvert_exporter": "python",
   "pygments_lexer": "ipython3",
   "version": "3.6.5"
  }
 },
 "nbformat": 4,
 "nbformat_minor": 2
}
