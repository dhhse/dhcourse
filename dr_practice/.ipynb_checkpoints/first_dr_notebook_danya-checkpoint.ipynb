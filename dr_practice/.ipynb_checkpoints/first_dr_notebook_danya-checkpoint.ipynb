{
 "cells": [
  {
   "cell_type": "markdown",
   "metadata": {},
   "source": [
    "# Distant Reading, переходим к Python"
   ]
  },
  {
   "cell_type": "markdown",
   "metadata": {},
   "source": [
    "## Как использовать этот код \n",
    "\n",
    "### (можно пропустить эту часть, если вы знаете, что такое Jupyter и ipynb-тетрадки -- в таком случае переходите сразу к \"Начало работы\")\n",
    "То, на что вы сейчас смотрите — тетрадка Jupyter Notebook. Это одна из популярных сред для написания и __демонстрации__ кода на Python (и не только). Jupyter запускает питоновский код прямо в браузере (но локально, т.е. код исполняет ваш компьютер, в отличие от, например Google Colab). В Jupyter код можно запускать не целиком, а по ячейкам (в отличие от IDLE). \n",
    "\n",
    "Пример:"
   ]
  },
  {
   "cell_type": "code",
   "execution_count": 122,
   "metadata": {
    "scrolled": false
   },
   "outputs": [
    {
     "name": "stdout",
     "output_type": "stream",
     "text": [
      "Мы с Даней сегодня тестим инструменты дистант ридинга\n"
     ]
    }
   ],
   "source": [
    "# ячейка с кодом\n",
    "text = 'Мы с Даней сегодня тестим инструменты дистант ридинга'\n",
    "print (text)"
   ]
  },
  {
   "cell_type": "code",
   "execution_count": 123,
   "metadata": {
    "scrolled": true
   },
   "outputs": [
    {
     "name": "stdout",
     "output_type": "stream",
     "text": [
      "МЫ С ДАНЕЙ СЕГОДНЯ ТЕСТИМ ИНСТРУМЕНТЫ ДИСТАНТ РИДИНГА\n"
     ]
    }
   ],
   "source": [
    "# еще одна ячейка с кодом. \n",
    "# Пространство имен общее — переменная text была заполнена в предыдущей ячейке\n",
    "print (text.upper())"
   ]
  },
  {
   "cell_type": "markdown",
   "metadata": {},
   "source": [
    "Кроме того, ячейки бывают текстовыми — их можно форматировать с помощью формата разметки markdown (.md). Текст, который вы сейчас читаете, а также всякие описания и картинки в предыдущей части этого занятия, написаны как раз в таком формате. Файлы Jupyter Notebook имеют расширение .ipynb и автоматически рендерятся гитхабом. Например, вот эта __[тетрадка](first_dr_notebook_danya.ipynb)__  у меня на гитхабе.  "
   ]
  },
  {
   "cell_type": "markdown",
   "metadata": {},
   "source": [
    "## Окей, а как я могу запустить код в таком .ipynb?\n",
    "\n",
    "Есть разные варианты: \n",
    "\n",
    "### Через __[Google Colab](https://colab.research.google.com)__. \n",
    "\n",
    "Google Colab — это гугловский инструмент для написания кода в браузере и запуска прямо на серверах Google (с возможностью бесплатно использовать их вычислительные мощности, в т.ч. графические процессор  — GPU).  Google Colab — родственник Jupyter, они очень похожи. Разница в том, что Jupyter работает локально и использует ваш собственный питон, а Google Colab — это облачный сервис, похожий на Google Docs: вы можете делиться тетрадками и т.д. В Colab можно открыть эту тетрадку, указав ссылку на нее: \n",
    "\n",
    "![Colab](pics/git2colab_new.png) \n",
    "\n",
    "Просто загрузить .ipynb-файл в Colab тоже можно. \n",
    "\n",
    "### Скачать себе .ipynb и открыть в Jupyter\n",
    "\n",
    "Скачать .ipynb с гитхаба: \n",
    "\n",
    "![Raw](pics/raw_download.png) \n",
    "\n",
    "Поставить Jupyter Notebook по инструкции __[отсюда](https://jupyter.readthedocs.io/en/latest/install.html)__. Открыть терминал (в Windows — командную строку).пойти в папку, внутри которой лежит скачанный .ipynb, написать там jupyter notebook. После этого у вас должно открыться в браузере что-то такое:\n",
    "\n",
    "![Colab](pics/jupyter.png)\n",
    "\n",
    "Тыкайте на тетрадку -- и все, можно работать в ней, писать код и т.п. Из Jupyter можно выгрузить и отдельно код в виде файла .py (но тогда разделение на ячейки пропадет).\n",
    "\n",
    "### Клонировать репозиторий\n",
    "\n",
    "Чуть более продвинутся версия предыдущего варианта. Делаете\n",
    "\n",
    "git clone https://github.com/dhhse/dhcourse\n",
    "\n",
    "И у вас есть этот код, а к тому же и все тексты рядом с ним (в папке texts лежит наш корпус в лемматизированном виде). **Правда, скачиывание через небыстрый интернет может занять сколько-то времени**.\n",
    "\n",
    "### Скачать .ipynb и открыть в PyCharm\n",
    "Если вы любите популярную у питонистов IDE PyCharm  -- она умеет открывать ipynb. Но для этого все равно нужен установеленный Jupyter. Поэтому надо проделать все то же, что в предыд.пункте, а потом открыть файл в PyCharm.\n",
    "\n",
    "### Скачать файл .py из Google Colab или Jupyter и открыть любой IDE (IDLE, PyCharm, что угодно...)\n",
    "Из Colab после создания копии вы можете выгрузить не весь .ipynb, а только код в .py. Этот код уже можно запускать где угодно, хоть из командной строки (терминала) вашего компьютера. Но тогда разделение на ячейки опять-таки пропадет."
   ]
  },
  {
   "cell_type": "markdown",
   "metadata": {},
   "source": [
    "# Начало работы"
   ]
  },
  {
   "cell_type": "markdown",
   "metadata": {},
   "source": [
    "## Самый простой пример: работаем в Python с одиночным текстом"
   ]
  },
  {
   "cell_type": "code",
   "execution_count": null,
   "metadata": {
    "scrolled": true
   },
   "outputs": [],
   "source": [
    "# у себя в репозитории я положил рядом с кодом пример текста — Преступление и наказение Ф.М. Достоевского\n",
    "# вот так я проверю, что рядом в папке лежит файл с корпусом.\n",
    "!ls"
   ]
  },
  {
   "cell_type": "code",
   "execution_count": null,
   "metadata": {
    "scrolled": true
   },
   "outputs": [],
   "source": [
    "## У тех, кто смотрит в колабе, его, естественно, не будет. В случае, когда нам нужен всего один файл, это можно решить вот стандартный код для загрузки в колаб\n",
    "from google.colab import files\n",
    "\n",
    "uploaded = files.upload()\n",
    "\n",
    "for fn in uploaded.keys():\n",
    "  print('User uploaded file \"{name}\" with length {length} bytes'.format(\n",
    "      name=fn, length=len(uploaded[fn])))"
   ]
  },
  {
   "cell_type": "markdown",
   "metadata": {},
   "source": [
    " __[Ссылка на текстовый файл](https://github.com/dhhse/dhcourse/blob/master/dr_practice/Dostoevsky_PrestuplenieINakazanie.txt)__. "
   ]
  },
  {
   "cell_type": "code",
   "execution_count": 3,
   "metadata": {
    "scrolled": true
   },
   "outputs": [],
   "source": [
    "# откроем файл в питоне\n",
    "path_to_file = 'Dostoevsky_PrestuplenieINakazanie.txt'\n",
    "prest_i_nak = open (path_to_file, 'r')\n",
    "prest_i_nak_kak_stroka = prest_i_nak.read()"
   ]
  },
  {
   "cell_type": "code",
   "execution_count": null,
   "metadata": {
    "scrolled": true
   },
   "outputs": [],
   "source": [
    "## попробуйте вывести тут длину строки с помощью функции len; надо написать len (prest_i_nak_kak_stroka) -- так вы передадите в функцию len ваш текст, считанный в сторку "
   ]
  },
  {
   "cell_type": "code",
   "execution_count": null,
   "metadata": {
    "scrolled": true
   },
   "outputs": [],
   "source": [
    "## попробуйте получить срез из первых 100 символов вашей строки с помощью срезов списка [:]\n",
    "## т.е. напишите ниже вот это: prest_i_nak_kak_stroka [:100]\n",
    "## и нажмите выполнить"
   ]
  },
  {
   "cell_type": "markdown",
   "metadata": {},
   "source": [
    "# Сегментация текста"
   ]
  },
  {
   "cell_type": "markdown",
   "metadata": {},
   "source": [
    "## 0. Простейший способ сегментации строки на токены (как бы на слова, но тупее грубее) — питоновский встроенный метод .split:"
   ]
  },
  {
   "cell_type": "code",
   "execution_count": null,
   "metadata": {
    "scrolled": true
   },
   "outputs": [],
   "source": [
    "prest_i_nak_kak_spisok_slov = prest_i_nak_kak_stroka.split() ## здесь в качестве аргумента можно воткнуть разделитель; по умолчанию это любое количество пробелов\n",
    "print ('Примерное количество слов в \"Преступлении и наказании\":', len (prest_i_nak_kak_spisok_slov))"
   ]
  },
  {
   "cell_type": "code",
   "execution_count": null,
   "metadata": {
    "scrolled": true
   },
   "outputs": [],
   "source": [
    "prest_i_nak_kak_spisok_slov[:200]\n",
    "\n",
    "#type (prest_i_nak_kak_stroka)"
   ]
  },
  {
   "cell_type": "markdown",
   "metadata": {},
   "source": [
    "### попробуем получить список уникальных слов:"
   ]
  },
  {
   "cell_type": "code",
   "execution_count": null,
   "metadata": {
    "scrolled": true
   },
   "outputs": [],
   "source": [
    "prest_i_nak_kak_mnojestvo_slov = set(prest_i_nak_kak_spisok_slov) ## превратим список в множество\n",
    "len (prest_i_nak_kak_mnojestvo_slov) ## получим число уникальных слов"
   ]
  },
  {
   "cell_type": "code",
   "execution_count": null,
   "metadata": {
    "scrolled": true
   },
   "outputs": [],
   "source": [
    "prest_i_nak_kak_spisok_unikalnyh_slov = list (prest_i_nak_kak_mnojestvo_slov)\n",
    "(prest_i_nak_kak_spisok_unikalnyh_slov).sort()\n",
    "prest_i_nak_kak_spisok_unikalnyh_slov [:1000]"
   ]
  },
  {
   "cell_type": "markdown",
   "metadata": {},
   "source": [
    "## 1. Более умный способ: сегментируем текст регекспом"
   ]
  },
  {
   "cell_type": "code",
   "execution_count": 5,
   "metadata": {
    "scrolled": true
   },
   "outputs": [],
   "source": [
    "## питоновский модуль для регекспов\n",
    "## ВООБЩЕ-ТО так делать НЕХОРОШО, потому что в тетрадках положено все импорты пихать в самую верхнюю ячейку\n",
    "## но я считаю, что здесь в педагогических целях можно\n",
    "import re"
   ]
  },
  {
   "cell_type": "code",
   "execution_count": null,
   "metadata": {
    "scrolled": true
   },
   "outputs": [],
   "source": [
    "prest_i_nak_spisok_re =  re.split ('( +|[.,!?–]|\\n)',prest_i_nak_kak_stroka)"
   ]
  },
  {
   "cell_type": "code",
   "execution_count": null,
   "metadata": {
    "scrolled": true
   },
   "outputs": [],
   "source": [
    "prest_i_nak_spisok_re [:100]"
   ]
  },
  {
   "cell_type": "markdown",
   "metadata": {},
   "source": [
    "## 2. Еще более умный способ: сегментируем текст готовым токенизатором — возьмем его из прекрасной библиотеки для обработки языка NLTK "
   ]
  },
  {
   "cell_type": "code",
   "execution_count": null,
   "metadata": {
    "scrolled": true
   },
   "outputs": [],
   "source": [
    "# если у вас еще нет nltk, установите его:\n",
    "!pip install nltk"
   ]
  },
  {
   "cell_type": "code",
   "execution_count": 6,
   "metadata": {
    "scrolled": true
   },
   "outputs": [],
   "source": [
    "from nltk.tokenize import word_tokenize\n",
    "clean_prest_i_nak_kak_stroka = re.sub ('[.,?!-:]', '', prest_i_nak_kak_stroka)\n",
    "prest_i_nak_nltk_tokenized = word_tokenize (clean_prest_i_nak_kak_stroka)"
   ]
  },
  {
   "cell_type": "code",
   "execution_count": null,
   "metadata": {
    "scrolled": true
   },
   "outputs": [],
   "source": [
    "prest_i_nak_nltk_tokenized [:100]"
   ]
  },
  {
   "cell_type": "markdown",
   "metadata": {},
   "source": [
    "### А теперь давайте посчитаем частотность слов в нашем списке слов; т.е. собственно как часто повторяется каждое"
   ]
  },
  {
   "cell_type": "code",
   "execution_count": null,
   "metadata": {
    "scrolled": true
   },
   "outputs": [],
   "source": [
    "## для этого мы тоже не станем писать свое решение с нуля, а воспользуемся готовым от NLTK\n",
    "## возьеме токенизированный список — и засунем его в функцию FreqDist от NLTK\n",
    "from nltk import FreqDist\n",
    "word_freqs_prest_i_nak = FreqDist(prest_i_nak_nltk_tokenized)\n",
    "word_freqs_prest_i_nak.most_common (100)"
   ]
  },
  {
   "cell_type": "code",
   "execution_count": 9,
   "metadata": {
    "scrolled": true
   },
   "outputs": [
    {
     "data": {
      "image/png": "[encoded data removed]",
      "text/plain": [
       "<Figure size 432x288 with 1 Axes>"
      ]
     },
     "metadata": {},
     "output_type": "display_data"
    }
   ],
   "source": [
    "word_freqs_prest_i_nak.plot(40, cumulative=False)"
   ]
  },
  {
   "cell_type": "markdown",
   "metadata": {},
   "source": [
    "# Стемминг, лемматизация, морфологический анализ"
   ]
  },
  {
   "cell_type": "markdown",
   "metadata": {},
   "source": [
    "### В том же NLTK есть готовая реализация стеммера для русского языка. Давайте потестируем ее!"
   ]
  },
  {
   "cell_type": "code",
   "execution_count": null,
   "metadata": {
    "scrolled": true
   },
   "outputs": [],
   "source": [
    "from nltk.stem.snowball import SnowballStemmer\n",
    "stemmer = SnowballStemmer(\"russian\")"
   ]
  },
  {
   "cell_type": "code",
   "execution_count": null,
   "metadata": {
    "scrolled": true
   },
   "outputs": [],
   "source": [
    "## стеммер не быстрый, поэтому давайте возьмем первые 1000 слов, а не все\n",
    "first_1000 = prest_i_nak_nltk_tokenized[:1000]\n",
    "## этот стеммер не умеет сам токенизировать -- он работает только с отдельными словами. \n",
    "## Поэтому придется скармливать ему наш список по одному: \n",
    "prest_i_nak_first_1000_stemmed = []\n",
    "for word in first_1000:\n",
    "    prest_i_nak_first_1000_stemmed.append (stemmer.stem(word))"
   ]
  },
  {
   "cell_type": "code",
   "execution_count": null,
   "metadata": {
    "scrolled": true
   },
   "outputs": [],
   "source": [
    "en_stemmer = SnowballStemmer(\"english\")\n",
    "string = 'I love teaching students at HSE'\n",
    "tostem = string.split()\n",
    "for word in tostem:\n",
    "    print (en_stemmer.stem(word))"
   ]
  },
  {
   "cell_type": "code",
   "execution_count": null,
   "metadata": {
    "scrolled": true
   },
   "outputs": [],
   "source": [
    "prest_i_nak_first_1000_stemmed"
   ]
  },
  {
   "cell_type": "markdown",
   "metadata": {},
   "source": [
    "# Лемматизация текста"
   ]
  },
  {
   "cell_type": "markdown",
   "metadata": {},
   "source": [
    "### MyStem\n",
    "\n",
    "__[Mystem](https://tech.yandex.ru/mystem/)__ - это свободно распространяемый морфологический анализатор для русского языка с закрытым исходным кодом. То есть мы можем его бесплатно скачать с сайта и пользоваться им, но не можем посмотреть, что у него внутри и как оно работает.\n",
    "\n",
    "Mystem был придуман одним из создателей Яндекса Ильёй Сегаловичем. Некоторый потомок Mystem'а до сих пор работает внутри большого поисковика Яндекса, анализируя слова при поиске.\n",
    "\n",
    "MyStem значит my stemmer. Как мы с вами уже знаем (см. выше), стемминг -- это разбиение формы на основу и флексию. Программы-стеммеры умеют превращать фразу 'Маша поехала за грибами' в 'Маш поехал за гриб'.  Но на самом деле MyStem не стеммер, а полноценный морфологический АНАЛИЗАТОР. Он может гораздо больше: устанавливать словарную форму слова, определять часть речи и грамматические характеристики (падеж, число, время, род...). В последних версиях Mystem умеет и выбирать из нескольких возможных грамматических разборов один, наиболее верный.\n",
    "\n",
    "У Mystem нет графического оконного интерфейса, запустить его можно только из командной строки. Зато есть обертка для Python — pymystem3.\n",
    "\n",
    "__[Документация к MyStem](https://tech.yandex.ru/mystem/doc/index-docpage/)__"
   ]
  },
  {
   "cell_type": "code",
   "execution_count": null,
   "metadata": {},
   "outputs": [],
   "source": [
    "# эта клетка нужна вам, если у вас не установлен модуль pymystem3.\n",
    "## в колабе работает не всякий майстем\n",
    "!pip install pymystem3"
   ]
  },
  {
   "cell_type": "code",
   "execution_count": 13,
   "metadata": {
    "scrolled": true
   },
   "outputs": [],
   "source": [
    "## импортируем непосредственно класс \"анализатор MyStem\" из pymystem3\n",
    "from pymystem3 import Mystem"
   ]
  },
  {
   "cell_type": "code",
   "execution_count": null,
   "metadata": {},
   "outputs": [],
   "source": [
    "help (Mystem()) ## всегда полезно почитать хелпы!"
   ]
  },
  {
   "cell_type": "code",
   "execution_count": 14,
   "metadata": {
    "scrolled": false
   },
   "outputs": [
    {
     "name": "stdout",
     "output_type": "stream",
     "text": [
      "['даня', ' ', 'тестировать', ' ', 'машинный', ' ', 'морфология', '\\n']\n"
     ]
    }
   ],
   "source": [
    "moi_analizator = Mystem() ## создаем анализатор\n",
    "test = 'Даня тестирует машинную морфологию' ## создаем тестовую строку\n",
    "lemmatized = moi_analizator.lemmatize(test) ## лемматизируем строку с помощью mystem \n",
    "print (lemmatized) ## напечатаем лемматизированную строку"
   ]
  },
  {
   "cell_type": "code",
   "execution_count": 15,
   "metadata": {
    "scrolled": true
   },
   "outputs": [],
   "source": [
    "prest_i_nak_by_mystem = moi_analizator.lemmatize(clean_prest_i_nak_kak_stroka) ## лемматизируем преступление и наказание с помощью mystem \n",
    "#print  (prest_i_nak_kak_by_mystem)"
   ]
  },
  {
   "cell_type": "code",
   "execution_count": null,
   "metadata": {},
   "outputs": [],
   "source": [
    "word_freqs_prest_i_nak = FreqDist(word for word in prest_i_nak_by_mystem if re.search ('[, !;:\\n]', word) == None)\n",
    "word_freqs_prest_i_nak.most_common (100)"
   ]
  },
  {
   "cell_type": "code",
   "execution_count": 21,
   "metadata": {},
   "outputs": [
    {
     "data": {
      "image/png": "[encoded data removed]",
      "text/plain": [
       "<Figure size 432x288 with 1 Axes>"
      ]
     },
     "metadata": {},
     "output_type": "display_data"
    }
   ],
   "source": [
    "word_freqs_prest_i_nak.plot (50, cumulative=False);"
   ]
  },
  {
   "cell_type": "markdown",
   "metadata": {},
   "source": [
    "## Распределение слов по тексту\n"
   ]
  },
  {
   "cell_type": "code",
   "execution_count": 121,
   "metadata": {},
   "outputs": [
    {
     "name": "stdout",
     "output_type": "stream",
     "text": [
      "[nltk_data] Downloading package stopwords to\n",
      "[nltk_data]     /Users/daniilskorinkin/nltk_data...\n",
      "[nltk_data]   Package stopwords is already up-to-date!\n"
     ]
    }
   ],
   "source": [
    "## NLTK умеет много разного;\n",
    "import nltk\n",
    "nltk.download('stopwords')\n",
    "from nltk import Text as nltk_text"
   ]
  },
  {
   "cell_type": "code",
   "execution_count": 120,
   "metadata": {},
   "outputs": [
    {
     "data": {
      "image/png": "[encoded data removed]",
      "text/plain": [
       "<Figure size 432x288 with 1 Axes>"
      ]
     },
     "metadata": {},
     "output_type": "display_data"
    }
   ],
   "source": [
    "prest_i_nak_nltk_format = nltk_text(prest_i_nak_by_mystem)\n",
    "prest_i_nak_nltk_format.dispersion_plot([\"раскольников\", \"соня\"])"
   ]
  },
  {
   "cell_type": "markdown",
   "metadata": {},
   "source": [
    "## Теперь попробуем так: возьмем весь наш корпус, сольем в один файл — и запустим на нем то же самое\n",
    "\n",
    "В GitHub нельзя запихать файл тяжелее 100 мб. Так что [вот он просто на гугл драйве](https://drive.google.com/open?id=1dEps432C_6jqsIgxPmhPu4keD_9VnM69). "
   ]
  },
  {
   "cell_type": "code",
   "execution_count": null,
   "metadata": {},
   "outputs": [],
   "source": [
    "## напишем это вместе на паре"
   ]
  },
  {
   "cell_type": "markdown",
   "metadata": {},
   "source": [
    "## Тематическое моделирование (задание для скучающих, 7.10.2019)\n",
    "\n",
    "Я умею делать тематическое моделирование только по олдскулу с помощью MALLET.\n",
    "Поэтому задание для продвинутых: выяснить, как запускать в питоне топик моделинг -- и автоматически визуализировать полученные топики в таком духе: \n",
    "\n",
    "![топики](pics/topics.png)"
   ]
  },
  {
   "cell_type": "code",
   "execution_count": null,
   "metadata": {},
   "outputs": [],
   "source": []
  }
 ],
 "metadata": {
  "kernelspec": {
   "display_name": "Python 3",
   "language": "python",
   "name": "python3"
  },
  "language_info": {
   "codemirror_mode": {
    "name": "ipython",
    "version": 3
   },
   "file_extension": ".py",
   "mimetype": "text/x-python",
   "name": "python",
   "nbconvert_exporter": "python",
   "pygments_lexer": "ipython3",
   "version": "3.6.5"
  }
 },
 "nbformat": 4,
 "nbformat_minor": 2
}
