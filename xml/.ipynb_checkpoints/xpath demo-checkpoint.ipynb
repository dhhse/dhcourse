{
 "cells": [
  {
   "cell_type": "code",
   "execution_count": 5,
   "metadata": {},
   "outputs": [],
   "source": [
    "from lxml import etree as lxml_tree"
   ]
  },
  {
   "cell_type": "code",
   "execution_count": 14,
   "metadata": {},
   "outputs": [
    {
     "name": "stdout",
     "output_type": "stream",
     "text": [
      "teachers_full.xml xpath demo.ipynb\r\n"
     ]
    }
   ],
   "source": [
    "!ls"
   ]
  },
  {
   "cell_type": "code",
   "execution_count": 6,
   "metadata": {},
   "outputs": [],
   "source": [
    "parsed_XML = lxml_tree.parse('teachers_full.xml')"
   ]
  },
  {
   "cell_type": "code",
   "execution_count": 9,
   "metadata": {},
   "outputs": [],
   "source": [
    "parsed_XML_root = parsed_XML.getroot() "
   ]
  },
  {
   "cell_type": "code",
   "execution_count": null,
   "metadata": {},
   "outputs": [],
   "source": [
    "parsed_XML_root.xpath('//person/*')"
   ]
  },
  {
   "cell_type": "code",
   "execution_count": 13,
   "metadata": {},
   "outputs": [
    {
     "name": "stdout",
     "output_type": "stream",
     "text": [
      "firstname Нина\n",
      "patronym Евгеньевна\n",
      "surname Сахарова\n",
      "firstname Борис\n",
      "patronym Валерьевич\n",
      "surname Орехов\n",
      "firstname Даниил\n",
      "patronym Андреевич\n",
      "surname Скоринкин\n",
      "firstname Франк\n",
      "patronym Куртович\n",
      "surname Фишер\n",
      "firstname Георгий\n",
      "patronym Алексеевич\n",
      "surname Мороз\n",
      "firstname Ольга\n",
      "patronym Николаевна\n",
      "surname Ляшевская\n"
     ]
    }
   ],
   "source": [
    "for element in parsed_XML_root.xpath('//person/*'):\n",
    "    print (element.tag, element.text)"
   ]
  },
  {
   "cell_type": "code",
   "execution_count": null,
   "metadata": {},
   "outputs": [],
   "source": []
  }
 ],
 "metadata": {
  "kernelspec": {
   "display_name": "Python 3",
   "language": "python",
   "name": "python3"
  },
  "language_info": {
   "codemirror_mode": {
    "name": "ipython",
    "version": 3
   },
   "file_extension": ".py",
   "mimetype": "text/x-python",
   "name": "python",
   "nbconvert_exporter": "python",
   "pygments_lexer": "ipython3",
   "version": "3.6.5"
  }
 },
 "nbformat": 4,
 "nbformat_minor": 2
}
